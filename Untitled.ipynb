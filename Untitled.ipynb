{
 "cells": [
  {
   "cell_type": "code",
   "execution_count": null,
   "metadata": {},
   "outputs": [],
   "source": [
    "from IPython.display import display\n",
    "import ipywidgets as wid\n",
    "from ipywidgets import interactive\n",
    "\n",
    "button = wid.Button(description=\"click me to begin\")\n",
    "display(button)\n",
    "\n",
    "def button_click(b):\n",
    "    print(\"You have selected to click the button. Congratulations\")\n",
    "    print(\"We will now begin the Tutorial\")\n",
    "    \n",
    "button.on_click(button_click)\n"
   ]
  },
  {
   "cell_type": "code",
   "execution_count": 7,
   "metadata": {},
   "outputs": [
    {
     "data": {
      "application/vnd.jupyter.widget-view+json": {
       "model_id": "77b9e6dafe884a48a2fcaff5bde4cec3",
       "version_major": 2,
       "version_minor": 0
      },
      "text/html": [
       "<p>Failed to display Jupyter Widget of type <code>interactive</code>.</p>\n",
       "<p>\n",
       "  If you're reading this message in the Jupyter Notebook or JupyterLab Notebook, it may mean\n",
       "  that the widgets JavaScript is still loading. If this message persists, it\n",
       "  likely means that the widgets JavaScript library is either not installed or\n",
       "  not enabled. See the <a href=\"https://ipywidgets.readthedocs.io/en/stable/user_install.html\">Jupyter\n",
       "  Widgets Documentation</a> for setup instructions.\n",
       "</p>\n",
       "<p>\n",
       "  If you're reading this message in another frontend (for example, a static\n",
       "  rendering on GitHub or <a href=\"https://nbviewer.jupyter.org/\">NBViewer</a>),\n",
       "  it may mean that your frontend doesn't currently support widgets.\n",
       "</p>\n"
      ],
      "text/plain": [
       "interactive(children=(IntSlider(value=10, description='a', max=30, min=-10), IntSlider(value=20, description='b', max=60, min=-20), Output()), _dom_classes=('widget-interact',))"
      ]
     },
     "metadata": {},
     "output_type": "display_data"
    }
   ],
   "source": [
    "def f(a,b):\n",
    "    display(a + b)\n",
    "    return a + b\n",
    "w = interactive(f,a=10,b=20)\n",
    "display(w)"
   ]
  },
  {
   "cell_type": "code",
   "execution_count": null,
   "metadata": {},
   "outputs": [],
   "source": [
    "a = wid.IntSlider(description=\"number\")\n",
    "def f(a):\n",
    "    print(a)\n",
    "\n",
    "out = wid.interactive_output(f,{\"a\":a})\n",
    "display(a)\n",
    "display(out)\n",
    "\n",
    "button = wid.Button(description=\"click me to begin\")\n",
    "display(button)\n",
    "\n",
    "def button_click(out):\n",
    "    print(\"you have selected: \",out,\"Congratulations\")\n",
    "    \n",
    "    \n",
    "button.on_click(button_click)\n",
    "\n"
   ]
  },
  {
   "cell_type": "code",
   "execution_count": null,
   "metadata": {},
   "outputs": [],
   "source": [
    "button = wid.Button(description=\"click me to begin\")\n",
    "display(button)\n",
    "\n",
    "def button_click(b):\n",
    "    x = input(\"Enter your name: \")\n",
    "    print(\"Welcome \",x)\n",
    "    \n",
    "button.on_click(button_click)\n",
    "\n",
    "\n"
   ]
  },
  {
   "cell_type": "code",
   "execution_count": null,
   "metadata": {
    "collapsed": true
   },
   "outputs": [],
   "source": [
    "x = input(\"Please enter your name: \")"
   ]
  },
  {
   "cell_type": "code",
   "execution_count": null,
   "metadata": {
    "collapsed": true
   },
   "outputs": [],
   "source": []
  }
 ],
 "metadata": {
  "kernelspec": {
   "display_name": "Python 3",
   "language": "python",
   "name": "python3"
  },
  "language_info": {
   "codemirror_mode": {
    "name": "ipython",
    "version": 3
   },
   "file_extension": ".py",
   "mimetype": "text/x-python",
   "name": "python",
   "nbconvert_exporter": "python",
   "pygments_lexer": "ipython3",
   "version": "3.6.4"
  }
 },
 "nbformat": 4,
 "nbformat_minor": 2
}
